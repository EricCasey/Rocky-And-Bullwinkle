{
 "cells": [
  {
   "cell_type": "code",
   "execution_count": 1,
   "metadata": {
    "scrolled": true
   },
   "outputs": [
    {
     "name": "stdout",
     "output_type": "stream",
     "text": [
      "initing\n"
     ]
    }
   ],
   "source": [
    "# Rocky & Bullwinkle Trading Bot Pair\n",
    "\n",
    "# ==== Rocky ====\n",
    "# > Searches for triangular arbitrage opportunities & executes trades.\n",
    "\n",
    "# == Bullwinkle ==\n",
    "# > A twitter sentiment analysis and chat bot connected to numerous chat groups to give misinformation \n",
    "# to other traders as well as bots. With the goal of extending the arbitrage opportunity window.\n",
    "\n",
    "print('initing')"
   ]
  },
  {
   "cell_type": "code",
   "execution_count": 3,
   "metadata": {},
   "outputs": [
    {
     "ename": "ModuleNotFoundError",
     "evalue": "No module named 'requests'",
     "output_type": "error",
     "traceback": [
      "\u001b[0;31m---------------------------------------------------------------------------\u001b[0m",
      "\u001b[0;31mModuleNotFoundError\u001b[0m                       Traceback (most recent call last)",
      "\u001b[0;32m<ipython-input-3-535c6fada9c0>\u001b[0m in \u001b[0;36m<module>\u001b[0;34m()\u001b[0m\n\u001b[1;32m      3\u001b[0m \u001b[0;32mimport\u001b[0m \u001b[0mos\u001b[0m\u001b[0;34m\u001b[0m\u001b[0m\n\u001b[1;32m      4\u001b[0m \u001b[0;34m\u001b[0m\u001b[0m\n\u001b[0;32m----> 5\u001b[0;31m \u001b[0;32mimport\u001b[0m \u001b[0mpoloniex\u001b[0m                 \u001b[0;31m# https://github.com/Aula13/poloniex\u001b[0m\u001b[0;34m\u001b[0m\u001b[0m\n\u001b[0m\u001b[1;32m      6\u001b[0m \u001b[0;32mfrom\u001b[0m \u001b[0mpoloniex\u001b[0m \u001b[0;32mimport\u001b[0m \u001b[0mPoloniex\u001b[0m   \u001b[0;31m#\u001b[0m\u001b[0;34m\u001b[0m\u001b[0m\n\u001b[1;32m      7\u001b[0m \u001b[0;34m\u001b[0m\u001b[0m\n",
      "\u001b[0;32m/Users/ericcasey/Library/Python/3.7/lib/python/site-packages/poloniex/__init__.py\u001b[0m in \u001b[0;36m<module>\u001b[0;34m()\u001b[0m\n\u001b[1;32m      1\u001b[0m \u001b[0;32mfrom\u001b[0m \u001b[0;34m.\u001b[0m\u001b[0mexceptions\u001b[0m \u001b[0;32mimport\u001b[0m \u001b[0;34m*\u001b[0m\u001b[0;34m\u001b[0m\u001b[0m\n\u001b[0;32m----> 2\u001b[0;31m \u001b[0;32mfrom\u001b[0m \u001b[0;34m.\u001b[0m\u001b[0mpoloniex\u001b[0m \u001b[0;32mimport\u001b[0m \u001b[0;34m*\u001b[0m\u001b[0;34m\u001b[0m\u001b[0m\n\u001b[0m",
      "\u001b[0;32m/Users/ericcasey/Library/Python/3.7/lib/python/site-packages/poloniex/poloniex.py\u001b[0m in \u001b[0;36m<module>\u001b[0;34m()\u001b[0m\n\u001b[1;32m      5\u001b[0m \u001b[0;32mimport\u001b[0m \u001b[0mhashlib\u001b[0m \u001b[0;32mas\u001b[0m \u001b[0m_hashlib\u001b[0m\u001b[0;34m\u001b[0m\u001b[0m\n\u001b[1;32m      6\u001b[0m \u001b[0;32mimport\u001b[0m \u001b[0mdatetime\u001b[0m \u001b[0;32mas\u001b[0m \u001b[0m_datetime\u001b[0m\u001b[0;34m\u001b[0m\u001b[0m\n\u001b[0;32m----> 7\u001b[0;31m \u001b[0;32mimport\u001b[0m \u001b[0mrequests\u001b[0m \u001b[0;32mas\u001b[0m \u001b[0m_requests\u001b[0m\u001b[0;34m\u001b[0m\u001b[0m\n\u001b[0m\u001b[1;32m      8\u001b[0m \u001b[0;32mimport\u001b[0m \u001b[0mitertools\u001b[0m \u001b[0;32mas\u001b[0m \u001b[0m_itertools\u001b[0m\u001b[0;34m\u001b[0m\u001b[0m\n\u001b[1;32m      9\u001b[0m \u001b[0;32mimport\u001b[0m \u001b[0mthreading\u001b[0m \u001b[0;32mas\u001b[0m \u001b[0m_threading\u001b[0m\u001b[0;34m\u001b[0m\u001b[0m\n",
      "\u001b[0;31mModuleNotFoundError\u001b[0m: No module named 'requests'"
     ]
    }
   ],
   "source": [
    "import numpy as np\n",
    "import pandas as pd\n",
    "import os\n",
    "\n",
    "import poloniex                 # https://github.com/Aula13/poloniex\n",
    "from poloniex import Poloniex   # \n",
    "\n",
    "import bittrex\n",
    "from bittrex.bittrex import Bittrex, API_V2_0\n",
    "\n",
    "print('pimport complete')"
   ]
  },
  {
   "cell_type": "code",
   "execution_count": 1,
   "metadata": {},
   "outputs": [
    {
     "ename": "NameError",
     "evalue": "name 'Poloniex' is not defined",
     "output_type": "error",
     "traceback": [
      "\u001b[0;31m---------------------------------------------------------------------------\u001b[0m",
      "\u001b[0;31mNameError\u001b[0m                                 Traceback (most recent call last)",
      "\u001b[0;32m<ipython-input-1-ca3517e7333c>\u001b[0m in \u001b[0;36m<module>\u001b[0;34m()\u001b[0m\n\u001b[1;32m      4\u001b[0m \u001b[0mpolo_key\u001b[0m \u001b[0;34m=\u001b[0m \u001b[0;34m'C214FRDK-DHVK8O9O-XPT9Y8Y4-U6B69MXC'\u001b[0m\u001b[0;34m\u001b[0m\u001b[0m\n\u001b[1;32m      5\u001b[0m \u001b[0mpolo_secret\u001b[0m \u001b[0;34m=\u001b[0m \u001b[0;34m'4e81bb7d07579575732b2dde4ad814be8a3107188fbe5c05a3990af6428f61488bd3dcdf0e814800001aafd31157b6a731abb40e6d3cbbac94880d8261a491cf'\u001b[0m\u001b[0;34m\u001b[0m\u001b[0m\n\u001b[0;32m----> 6\u001b[0;31m \u001b[0mpolo\u001b[0m \u001b[0;34m=\u001b[0m \u001b[0mPoloniex\u001b[0m\u001b[0;34m(\u001b[0m\u001b[0mpolo_key\u001b[0m\u001b[0;34m,\u001b[0m \u001b[0mpolo_secret\u001b[0m\u001b[0;34m)\u001b[0m\u001b[0;34m\u001b[0m\u001b[0m\n\u001b[0m\u001b[1;32m      7\u001b[0m \u001b[0mprint\u001b[0m\u001b[0;34m(\u001b[0m\u001b[0;34m'POLONIEX SUCCESS'\u001b[0m\u001b[0;34m)\u001b[0m\u001b[0;34m\u001b[0m\u001b[0m\n\u001b[1;32m      8\u001b[0m \u001b[0;34m\u001b[0m\u001b[0m\n",
      "\u001b[0;31mNameError\u001b[0m: name 'Poloniex' is not defined"
     ]
    }
   ],
   "source": [
    "# Exchange API Config Vars (make this .env or JSON variables later)\n",
    "\n",
    "# --- Poloniex\n",
    "polo_key = 'C214FRDK-DHVK8O9O-XPT9Y8Y4-U6B69MXC'\n",
    "polo_secret = '4e81bb7d07579575732b2dde4ad814be8a3107188fbe5c05a3990af6428f61488bd3dcdf0e814800001aafd31157b6a731abb40e6d3cbbac94880d8261a491cf'\n",
    "polo = Poloniex(polo_key, polo_secret)\n",
    "print('POLONIEX SUCCESS')\n",
    "\n",
    "# --- Bittrex\n",
    "btrx_key = '20ad355a516c429191899a38539e6810 '\n",
    "btrx_secret = 'a03e3ffcc7d4488e9cee07382ecb4416'\n",
    "btrx = bittrex(btrx_key, btrx_secret)\n",
    "print('BITTREX SUCCESS')\n",
    "\n",
    "print(btrx.getticker('BTC-DOGE'))\n",
    "\n",
    "# --- Quadriga\n",
    "\n",
    "# --- Binance\n",
    "\n",
    "# --- Coinbase\n",
    "\n",
    "# --- Trade Ogre ?\n",
    "\n",
    "exchange_list = ['Poloniex']\n",
    "\n",
    "print(exchange_list)\n"
   ]
  },
  {
   "cell_type": "code",
   "execution_count": 2,
   "metadata": {},
   "outputs": [
    {
     "ename": "NameError",
     "evalue": "name 'polo' is not defined",
     "output_type": "error",
     "traceback": [
      "\u001b[0;31m---------------------------------------------------------------------------\u001b[0m",
      "\u001b[0;31mNameError\u001b[0m                                 Traceback (most recent call last)",
      "\u001b[0;32m<ipython-input-2-a856fca7f08e>\u001b[0m in \u001b[0;36m<module>\u001b[0;34m()\u001b[0m\n\u001b[1;32m      1\u001b[0m \u001b[0;31m# Load Balances - Poloniex\u001b[0m\u001b[0;34m\u001b[0m\u001b[0;34m\u001b[0m\u001b[0m\n\u001b[0;32m----> 2\u001b[0;31m \u001b[0mpolo_bal\u001b[0m \u001b[0;34m=\u001b[0m \u001b[0mpolo\u001b[0m\u001b[0;34m.\u001b[0m\u001b[0mreturnBalances\u001b[0m\u001b[0;34m(\u001b[0m\u001b[0;34m)\u001b[0m\u001b[0;34m\u001b[0m\u001b[0m\n\u001b[0m\u001b[1;32m      3\u001b[0m \u001b[0mprint\u001b[0m\u001b[0;34m(\u001b[0m\u001b[0mbalances\u001b[0m\u001b[0;34m)\u001b[0m\u001b[0;34m\u001b[0m\u001b[0m\n\u001b[1;32m      4\u001b[0m \u001b[0;34m\u001b[0m\u001b[0m\n\u001b[1;32m      5\u001b[0m \u001b[0;31m# Load Balances - Bittrex\u001b[0m\u001b[0;34m\u001b[0m\u001b[0;34m\u001b[0m\u001b[0m\n",
      "\u001b[0;31mNameError\u001b[0m: name 'polo' is not defined"
     ]
    }
   ],
   "source": [
    "# Portfolio Import\n",
    "\n",
    "# Load Balances - Poloniex\n",
    "polo_bal = polo.returnBalances()\n",
    "print(balances)\n",
    "\n",
    "# Load Balances - Bittrex\n",
    "# btrx_bal = btrx\n",
    "\n",
    "# Load Markets -\n",
    "\n",
    "coinList = list(balances.keys())\n",
    "\n",
    "holdList = [coin for coin, amnt in polo_bal.items() if float(amnt) > 0.00000001]\n",
    "\n",
    "print(polo_bal)\n",
    "print(holdList)\n",
    "\n",
    "# is the goal coin the right proportion? yes? proceed, no? decide?\n",
    "print(\"Your Goal Coin Makes Up \" + str(0) + \"% Of Your Portfolio.\")\n",
    "\n",
    "# print(coinList)\n",
    "\n",
    "# print(polo.returnTicker()['BTC_ETH'])\n",
    "\n",
    "# Load all operational markets (x to y)\n",
    "\n",
    "# Set goal currency (should I call this 'cash'?)\n",
    "goal_curr = 'BTC'\n",
    "\n",
    "# Generate all possible 3-length permutations that start with a currency currently held and \n",
    "# ends with the goal currency.\n",
    "\n",
    "# Get data for all possible triangles (websockets, realtime) (including fees!)\n",
    "\n",
    "# Rank triangles by size of opportunity (BTC profit) (also by time?)\n",
    "\n",
    "# Rank triangles by prediction confidence (rolling test set (always predict on latest value))\n",
    "\n",
    "# !!!"
   ]
  },
  {
   "cell_type": "code",
   "execution_count": null,
   "metadata": {},
   "outputs": [],
   "source": [
    "# Ultra-light super-fast arbitrage checking function\n",
    "def arb_check():\n",
    "    print('arb_check')\n",
    "\n"
   ]
  },
  {
   "cell_type": "code",
   "execution_count": null,
   "metadata": {},
   "outputs": [],
   "source": [
    "# Keep log of API response time as CSV, so if a certain trade tends to take long, know that.\n",
    "# Risk?!?!\n",
    "# * Expected Shortfall\n",
    "# Keep Logs of all trades!!\n",
    "# Has to be quick!\n",
    "# Portfolio optimization\n",
    "# Optimal number of holdings at one time? 8?\n",
    "# Frequency?\n",
    "# If, after the first trade, the opportunity is gone, hold it until another opportunity arises.\n",
    "# Ranked on confidence intervals?\n",
    "# rank based on combined prediction metrics?\n",
    "# needs full list of addresses"
   ]
  }
 ],
 "metadata": {
  "kernelspec": {
   "display_name": "Python 3",
   "language": "python",
   "name": "python3"
  },
  "language_info": {
   "codemirror_mode": {
    "name": "ipython",
    "version": 3
   },
   "file_extension": ".py",
   "mimetype": "text/x-python",
   "name": "python",
   "nbconvert_exporter": "python",
   "pygments_lexer": "ipython3",
   "version": "3.7.0"
  }
 },
 "nbformat": 4,
 "nbformat_minor": 1
}
