{
 "cells": [
  {
   "cell_type": "code",
   "execution_count": 1,
   "metadata": {},
   "outputs": [
    {
     "ename": "ModuleNotFoundError",
     "evalue": "No module named 'poloniex'",
     "output_type": "error",
     "traceback": [
      "\u001b[0;31m---------------------------------------------------------------------------\u001b[0m",
      "\u001b[0;31mModuleNotFoundError\u001b[0m                       Traceback (most recent call last)",
      "\u001b[0;32m<ipython-input-1-4417f120a810>\u001b[0m in \u001b[0;36m<module>\u001b[0;34m()\u001b[0m\n\u001b[1;32m      4\u001b[0m \u001b[0;32mimport\u001b[0m \u001b[0mpandas\u001b[0m \u001b[0;32mas\u001b[0m \u001b[0mpd\u001b[0m\u001b[0;34m\u001b[0m\u001b[0m\n\u001b[1;32m      5\u001b[0m \u001b[0;32mimport\u001b[0m \u001b[0mos\u001b[0m\u001b[0;34m\u001b[0m\u001b[0m\n\u001b[0;32m----> 6\u001b[0;31m \u001b[0;32mimport\u001b[0m \u001b[0mpoloniex\u001b[0m\u001b[0;34m\u001b[0m\u001b[0m\n\u001b[0m\u001b[1;32m      7\u001b[0m \u001b[0;34m\u001b[0m\u001b[0m\n\u001b[1;32m      8\u001b[0m \u001b[0mpolo\u001b[0m \u001b[0;34m=\u001b[0m \u001b[0mpoloniex\u001b[0m\u001b[0;34m.\u001b[0m\u001b[0mPoloniex\u001b[0m\u001b[0;34m(\u001b[0m\u001b[0;34m'W1A2LCS4-X9PE8RQU-V1DETQA5-GAJ0ZLKM'\u001b[0m\u001b[0;34m,\u001b[0m \u001b[0;34m'8c2dcb073e85967fb026111629f2a1b75e7341b6706080b7b16a2c2b02787bc0cb52d9d953b54c0dc25114868c3d527bc6742418d61845f54b3c3e7471abd6db'\u001b[0m\u001b[0;34m)\u001b[0m\u001b[0;34m\u001b[0m\u001b[0m\n",
      "\u001b[0;31mModuleNotFoundError\u001b[0m: No module named 'poloniex'"
     ]
    }
   ],
   "source": [
    "# https://github.com/s4w3d0ff/python-poloniex\n",
    "\n",
    "import numpy as np\n",
    "import pandas as pd\n",
    "import os\n",
    "import poloniex\n",
    "\n",
    "polo = poloniex.Poloniex('W1A2LCS4-X9PE8RQU-V1DETQA5-GAJ0ZLKM', '8c2dcb073e85967fb026111629f2a1b75e7341b6706080b7b16a2c2b02787bc0cb52d9d953b54c0dc25114868c3d527bc6742418d61845f54b3c3e7471abd6db')\n",
    "polo.key = 'W1A2LCS4-X9PE8RQU-V1DETQA5-GAJ0ZLKM'\n",
    "polo.secret = '8c2dcb073e85967fb026111629f2a1b75e7341b6706080b7b16a2c2b02787bc0cb52d9d953b54c0dc25114868c3d527bc6742418d61845f54b3c3e7471abd6db'\n",
    "\n",
    "exchange_list = ['Poloniex']\n",
    "\n",
    "balances = polo('returnBalances')\n",
    "\n",
    "coinList = list(balances.keys())\n",
    "\n",
    "holdList = [coin for coin, amnt in balances.items() if float(amnt) > 0.00000001]\n",
    "\n",
    "print(balances)\n",
    "print(holdList)\n",
    "\n",
    "# is the goal coin the right proportion? yes? proceed, no? decide?\n",
    "print(\"Your Goal Coin Makes Up \" + str(0) + \"% Of Your Portfolio.\")\n",
    "\n"
   ]
  },
  {
   "cell_type": "code",
   "execution_count": null,
   "metadata": {},
   "outputs": [],
   "source": []
  }
 ],
 "metadata": {
  "kernelspec": {
   "display_name": "Python 3",
   "language": "python",
   "name": "python3"
  },
  "language_info": {
   "codemirror_mode": {
    "name": "ipython",
    "version": 3
   },
   "file_extension": ".py",
   "mimetype": "text/x-python",
   "name": "python",
   "nbconvert_exporter": "python",
   "pygments_lexer": "ipython3",
   "version": "3.7.0"
  }
 },
 "nbformat": 4,
 "nbformat_minor": 2
}
