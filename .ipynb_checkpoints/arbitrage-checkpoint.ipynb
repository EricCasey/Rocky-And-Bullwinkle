{
 "cells": [
  {
   "cell_type": "code",
   "execution_count": 1,
   "metadata": {},
   "outputs": [
    {
     "name": "stdout",
     "output_type": "stream",
     "text": [
      "init\n"
     ]
    }
   ],
   "source": [
    "# Rocky & Bullwinkle Trading Bot Pair\n",
    "\n",
    "# ==== Rocky ====\n",
    "# > Searches for triangular arbitrage opportunities & executes trades.\n",
    "\n",
    "# == Bullwinkle ==\n",
    "# > A twitter sentiment analysis and chat bot connected to numerous chat groups to give misinformation \n",
    "# to other traders as well as bots. With the goal of extending the arbitrage opportunity window.\n",
    "\n",
    "print('init')"
   ]
  },
  {
   "cell_type": "code",
   "execution_count": null,
   "metadata": {},
   "outputs": [],
   "source": [
    "import numpy as np\n",
    "import pandas as pd\n",
    "import os\n",
    "import poloniex         # https://github.com/s4w3d0ff/python-poloniex\n",
    "\n"
   ]
  },
  {
   "cell_type": "code",
   "execution_count": 2,
   "metadata": {},
   "outputs": [
    {
     "ename": "NameError",
     "evalue": "name 'poloniex' is not defined",
     "output_type": "error",
     "traceback": [
      "\u001b[0;31m---------------------------------------------------------------------------\u001b[0m",
      "\u001b[0;31mNameError\u001b[0m                                 Traceback (most recent call last)",
      "\u001b[0;32m<ipython-input-2-755424f0d9f3>\u001b[0m in \u001b[0;36m<module>\u001b[0;34m()\u001b[0m\n\u001b[1;32m      2\u001b[0m \u001b[0;34m\u001b[0m\u001b[0m\n\u001b[1;32m      3\u001b[0m \u001b[0;31m# --- Poloniex\u001b[0m\u001b[0;34m\u001b[0m\u001b[0;34m\u001b[0m\u001b[0m\n\u001b[0;32m----> 4\u001b[0;31m \u001b[0mpolo\u001b[0m \u001b[0;34m=\u001b[0m \u001b[0mpoloniex\u001b[0m\u001b[0;34m.\u001b[0m\u001b[0mPoloniex\u001b[0m\u001b[0;34m(\u001b[0m\u001b[0;34m'W1A2LCS4-X9PE8RQU-V1DETQA5-GAJ0ZLKM'\u001b[0m\u001b[0;34m,\u001b[0m \u001b[0;34m'8c2dcb073e85967fb026111629f2a1b75e7341b6706080b7b16a2c2b02787bc0cb52d9d953b54c0dc25114868c3d527bc6742418d61845f54b3c3e7471abd6db'\u001b[0m\u001b[0;34m)\u001b[0m\u001b[0;34m\u001b[0m\u001b[0m\n\u001b[0m\u001b[1;32m      5\u001b[0m \u001b[0mpolo\u001b[0m\u001b[0;34m.\u001b[0m\u001b[0mkey\u001b[0m \u001b[0;34m=\u001b[0m \u001b[0;34m'W1A2LCS4-X9PE8RQU-V1DETQA5-GAJ0ZLKM'\u001b[0m\u001b[0;34m\u001b[0m\u001b[0m\n\u001b[1;32m      6\u001b[0m \u001b[0mpolo\u001b[0m\u001b[0;34m.\u001b[0m\u001b[0msecret\u001b[0m \u001b[0;34m=\u001b[0m \u001b[0;34m'8c2dcb073e85967fb026111629f2a1b75e7341b6706080b7b16a2c2b02787bc0cb52d9d953b54c0dc25114868c3d527bc6742418d61845f54b3c3e7471abd6db'\u001b[0m\u001b[0;34m\u001b[0m\u001b[0m\n",
      "\u001b[0;31mNameError\u001b[0m: name 'poloniex' is not defined"
     ]
    }
   ],
   "source": [
    "# Exchange API Config Vars\n",
    "\n",
    "# --- Poloniex\n",
    "polo = poloniex.Poloniex('W1A2LCS4-X9PE8RQU-V1DETQA5-GAJ0ZLKM', '8c2dcb073e85967fb026111629f2a1b75e7341b6706080b7b16a2c2b02787bc0cb52d9d953b54c0dc25114868c3d527bc6742418d61845f54b3c3e7471abd6db')\n",
    "polo.key = 'W1A2LCS4-X9PE8RQU-V1DETQA5-GAJ0ZLKM'\n",
    "polo.secret = '8c2dcb073e85967fb026111629f2a1b75e7341b6706080b7b16a2c2b02787bc0cb52d9d953b54c0dc25114868c3d527bc6742418d61845f54b3c3e7471abd6db'\n",
    "\n",
    "# --- Quadriga\n",
    "\n",
    "# --- Bittrex\n",
    "\n",
    "# --- Binance\n",
    "\n",
    "# --- Coinbase\n",
    "\n",
    "# --- Trade Ogre ?\n",
    "\n",
    "exchange_list = ['Poloniex']\n",
    "\n",
    "print(exchange_list)\n"
   ]
  },
  {
   "cell_type": "code",
   "execution_count": null,
   "metadata": {},
   "outputs": [],
   "source": [
    "# Load Balances\n",
    "polo_bal = polo('returnBalances')\n",
    "\n",
    "coinList = list(polo_bal.keys())\n",
    "\n",
    "holdList = [coin for coin, amnt in polo_bal.items() if float(amnt) > 0.00000001]\n",
    "\n",
    "print(polo_bal)\n",
    "print(holdList)\n",
    "\n",
    "# is the goal coin the right proportion? yes? proceed, no? decide?\n",
    "print(\"Your Goal Coin Makes Up \" + str(0) + \"% Of Your Portfolio.\")\n",
    "\n",
    "# print(coinList)\n",
    "\n",
    "# print(polo.returnTicker()['BTC_ETH'])\n",
    "\n",
    "# Load all operational markets (x to y)\n",
    "\n",
    "# Set goal currency (should I call this 'cash'?)\n",
    "goal_curr = 'BTC'\n",
    "\n",
    "# Generate all possible 3-length permutations that start with a currency currently held and \n",
    "# ends with the goal currency.\n",
    "\n",
    "# Get data for all possible triangles (websockets, realtime) (including fees!)\n",
    "\n",
    "# Rank triangles by size of opportunity (BTC profit) (also by time?)\n",
    "\n",
    "# Rank triangles by prediction confidence (rolling test set (always predict on latest value))\n",
    "\n",
    "# !!!"
   ]
  },
  {
   "cell_type": "code",
   "execution_count": null,
   "metadata": {},
   "outputs": [],
   "source": [
    "# Keep log of API response time as CSV, so if a certain trade tends to take long, know that.\n",
    "# Risk?!?!\n",
    "# * Expected Shortfall\n",
    "# Keep Logs of all trades!!\n",
    "# Has to be quick!\n",
    "# Portfolio optimization\n",
    "# Optimal number of holdings at one time? 8?\n",
    "# Frequency?\n",
    "# If, after the first trade, the opportunity is gone, hold it until another opportunity arises.\n",
    "# Ranked on confidence intervals?\n",
    "# rank based on combined prediction metrics?"
   ]
  }
 ],
 "metadata": {
  "kernelspec": {
   "display_name": "Python 3",
   "language": "python",
   "name": "python3"
  },
  "language_info": {
   "codemirror_mode": {
    "name": "ipython",
    "version": 3
   },
   "file_extension": ".py",
   "mimetype": "text/x-python",
   "name": "python",
   "nbconvert_exporter": "python",
   "pygments_lexer": "ipython3",
   "version": "3.7.0"
  }
 },
 "nbformat": 4,
 "nbformat_minor": 1
}
